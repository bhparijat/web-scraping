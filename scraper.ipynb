{
 "cells": [
  {
   "cell_type": "code",
   "execution_count": 6,
   "metadata": {},
   "outputs": [],
   "source": [
    "import pandas as pd\n",
    "import requests as requests\n",
    "import numpy as np \n",
    "from bs4 import BeautifulSoup\n",
    "from requests_html import AsyncHTMLSession, HTMLSession"
   ]
  },
  {
   "cell_type": "code",
   "execution_count": 39,
   "metadata": {},
   "outputs": [],
   "source": [
    "link = \"https://www.yelp.com/search?find_desc=Restaurants&find_loc=San%20Francisco%2C%20CA%2C%20US&sortby=rating\""
   ]
  },
  {
   "cell_type": "code",
   "execution_count": 40,
   "metadata": {},
   "outputs": [],
   "source": [
    "asession = HTMLSession()\n",
    "res = asession.get(url=link)"
   ]
  },
  {
   "cell_type": "code",
   "execution_count": null,
   "metadata": {},
   "outputs": [],
   "source": []
  },
  {
   "cell_type": "code",
   "execution_count": 41,
   "metadata": {},
   "outputs": [],
   "source": [
    "soup = BeautifulSoup(res.content,\"html.parser\")"
   ]
  },
  {
   "cell_type": "code",
   "execution_count": 42,
   "metadata": {},
   "outputs": [],
   "source": [
    "a = soup.findAll(\"ul\")"
   ]
  },
  {
   "cell_type": "code",
   "execution_count": 44,
   "metadata": {},
   "outputs": [
    {
     "name": "stdout",
     "output_type": "stream",
     "text": [
      "0 $$$$$$$$$$\n",
      "1 Sponsored ResultsLittle Creatures Mission Bay86 reviews$$Restaurants, Breweries, Venues & Event Spaces(415) 525-44071000A 3rd StMission Bay“A lot to like here - fun location looking out at the ballpark (could see the scoreboard from our table), great food (did it family-style with a bigger group and seriously wasn't a…” read moreNespresso Boutique at Bloomingdales70 reviews$$Kitchen Supplies, Coffee Roasteries, Coffee & Tea(415) 315-0136845 Market StSoMa“Came in today as were staying at our friends house for the holiday- and don't want to be the worst guests ever and drink all his coffee. That means I came in to Nespresso as a total…” read morePesce e Riso137 reviews$$Italian, Seafood, Japanese(415) 872-99971224 Grant AveNorth Beach/Telegraph HillEstablished in 2017Takes reservations“As soon as you sit down and ask for your first sake recommendation you can tell these guys take pride in what they do. In case you didn't know, the concept here is Japanese / Italian…” read moreAll Results1. Marrakech Magic Theater948 reviews$$Comedy Clubs, Magicians, Dinner Theater(415) 794-6893Serving San Francisco and the Surrounding Area“Support our local performers!!  These small-time venues are disappearing so fast and it's a true treasure to experience an intimate performace such as this…” read more2. Limoncello821 reviews$$Sandwiches, Delis, Beer, Wine & Spirits(415) 638-63611400 Sutter StLower Pacific Heights“This is a great gem in Pac Heights. It's not a reataurant--it's just an Italian corner store with a deli counter and bakery case. So you won't find any tables…” read moreStart OrderOffers takeout and delivery3. Shish Ke Baba202 reviews$$Kebab, Turkish, Mediterranean(628) 222-421659 30th StBernal Heights“Amazing middle eastern food! True authentic flavors and dishes. Baba's sampler is great to start off with especially if you have a group. Mixed grill plate is…” read more4. Gusto Pinsa Romana260 reviews$$Pizza, Coffee & Tea, Bakeries(415) 678-53391000 Bush StLower Nob Hill“Super good pinsa! Taste very good and the waitstaff is wonderful! Everyone is on point, the water was always topped off and so attentive. \n",
      "\n",
      "The pinsa was…” read moreStart OrderOffers takeout and delivery5. Cup Cafe230 reviews$Coffee & Tea, Bagels, Sandwiches6 Monterey BlvdSunnyside“best restaurant in california, best man in California, best bagel in california\n",
      "Great americano\n",
      "Great breakfast sandwich\n",
      "Lovely environment \n",
      "Delicious food” read more6. Cheese Boutique181 reviews$Cheese Shops, Sandwiches, Delis(415) 333-3390660 Chenery StGlen Park“I can't believe we never knew about this gem of a store. We were looking to rent a raclette machine and did not want to go to the place on 24th with the rude…” read more7. Cuisine of Nepal546 reviews$$Himalayan/Nepalese, Indian, Caterers(415) 647-22223486 Mission StBernal Heights“I haven't been to many Nepali restaurants to judge the authenticity of this one. However, if you're looking for a small family restaurant, this one can be a…” read moreFind a TableOffers reservationsStart OrderOffers takeout and delivery8. Miyako Old Fashioned Ice Cream331 reviews$Ice Cream & Frozen Yogurt, Delis, Sandwiches(415) 931-52601470 Fillmore StWestern Addition“CASH ONLY!\n",
      "SOSOSOOOOO QUAINT!!!!!\n",
      "\n",
      "Had this place bookmarked for a while, but stumbled upon it on a long walk from Mission Bay to Marina on Sunday!\n",
      "Since I…” read more9. Fresh Brew Coffee567 reviews$Coffee & Tea, Sandwiches, Vietnamese(415) 567-0915882 Bush StLower Nob Hill“Damn this place is good! I was always curious about this little hole in the wall spot. Every time I'd walk by there would be a decent line. To be fair, the…” read more10. Falafelland178 reviews$$Falafel(415) 424-1552133 6th StSoMa“Is there anything that could vary more night and day in taste than falafels? It's not like pizza- bad pizza is still acceptable. When falafels are bad, it's…” read moreStart OrderOffers takeout and delivery11. Frena Bakery and Cafe401 reviews$$Bakeries, Kosher, Mediterranean(628) 444-3666132 6th StSoMa“They've expanded their sofganyot choices and now besides the usual jelly and Bavarian cream they have s'mores, halva, chocolate and peanut butter sofganyot and…” read moreStart OrderOffers takeout and delivery12. Early To Rise167 reviews$$$Breakfast & Brunch, American (Traditional)(415) 917-10981098 Jackson StNob Hill“Really enjoyed the food and conversation \n",
      "Everything was delicious \n",
      "Looking forward to returning !” read more13. Crostini & Java147 reviews$$Coffee & Tea, Sandwiches, Tapas Bars(415) 872-9226899 Hyde StLower Nob Hill“Wonderful quaint place with good coffee and delicious  crostinis, sandwiches and bagels.   My fave was the Crostini with prosciutto, sliced apples and drizzled…” read more14. Goldie’s Oakwood BBQ57 reviewsCaterers, Barbeque(415) 912-8388Bayview-Hunters Point“Our staff holiday party is something our employees always look forward to. This year, we decided to try something a little different and more casual and I…” read more15. Gio Gelati187 reviews$Gelato, Creperies(415) 867-13061998 Union StMarina/Cow Hollow“This gelati store is a small gem on Unlion Street.\n",
      "We went there after a fine meal of Melxican cuisine at Flores.  The proprietor gave each of us several…” read moreStart OrderOffers takeout and delivery16. Lapisara Eatery694 reviews$$Breakfast & Brunch, Burgers, Thai(415) 655-3556698 Post StLower Nob Hill“Found this little gem by yelp this morning. Just about 9minutes wall from the hotel we are staying in. Got there around 11:30, quite a bit of line outside. We…” read more17. Piccolo Forno566 reviews$$Pizza, Italian(415) 757-0087725 Columbus AveRussian Hill“Came here for friends birthday - we ordered the vegetarian pizza and the tiramisu. The vegetarian pizza was good and healthy with carrots, eggplant,…” read more18. Tadu Ethiopian Kitchen660 reviews$$Ethiopian(415) 409-6649484 Ellis StTenderloin“What can I say, but I love this place. The food is good, the people friendly, and they have gluten free Injera. Yeah the neighborhood looks a little sketchy,…” read moreStart OrderOffers takeout and delivery19. The Shota143 reviews$$$$Japanese, Sushi Bars(628) 224-2074115 Sansome StFinancial District“UHH-MAZING!! My friend and I made a reservation in advance since there are only X amount of seating per night. Came in 10 minutes prior to our scheduled…” read more20. Handy Deli231 reviews$Delis, Beer, Wine & Spirits(415) 681-33231815 Irving StOuter Sunset“I absolutely love this place. On the outside, it looks like a corner store. (It looks like a corner store on the inside, too, for the most part.)\n",
      "\n",
      "They've got…” read moreStart OrderOffers takeout and delivery21. Cafe de Casa399 reviews$$Coffee & Tea, Brazilian, Gluten-Free(415) 345-10552701 Leavenworth StRussian Hill“Cafe de Casa makes food meant for the gods! I love having their fresh açaí bowls and delicious coffee that wakes your soul up. The Brazilian coconut cheese…” read moreStart OrderOffers takeout22. Ichido115 reviews$$$Seafood, Japanese, Pop-Up Restaurants50 Apparel WayBayview-Hunters Point“Like a trail of breadcrumbs made from post processing Sake lees, I followed the great Yelp reviews to Ichido for my birthday dinner (not saying which one).…” read more23. San Francisco Wine & Cheese97 reviews$$Cheese Shops, Wine Bars, Sandwiches(415) 874-9133141 Gough StHayes Valley“This is such a hidden gem in Hayes Valley. Avoid all of the hipster, overpriced, tourist trap artisanal food & wine shops in the area. If you want reasonable…” read more24. Old Skool Cafe548 reviews$$Soul Food, American (Traditional)(415) 822-85311429 Mendell StBayview-Hunters Point“When you step off the bus or the train at 3rd and Palou, you may wonder if you've gone astray, but you're in the right place. Just across the little plaza from…” read moreFind a TableOffers reservations25. Gary Danko5498 reviews$$$$American (New), French, Wine Bars(415) 749-2060800 N Point StRussian Hill“100th REVIEW *** GARY DANKO was fine dining at its best . I would gladly give it ten stars if that was possible on yelp. We came here to celebrate my friends…” read more26. Lucho’s176 reviews$$Breakfast & Brunch, Sandwiches, Mexican(415) 347-74162675 Ocean AveLakeside“I travel a lot for work and because of my schedule, I wind up eating out for breakfast more than any other meal. I say that because I've had breakfast burritos…” read moreStart OrderOffers takeout and delivery27. Calabria Bros147 reviews$Caterers, Sandwiches, Delis(415) 239-25554763 Mission StExcelsior“This was my first time in this spot. No BS. This sandwich I ordered was called the benito everything on Sourdough bread. It was delicious and freakishly…” read more28. KUSAKABE885 reviews$$$$Sushi Bars, Japanese(415) 757-0155584 Washington StFinancial DistrictGluten-free friendly Healthy dining“So far, the best sushi experience I've had in SF. High quality fish, beautiful presentation, incredibly accommodating staff and overall.. just a great…” read moreFind a TableOffers reservations29. Bandit375 reviews$$Burgers, Breakfast & Brunch, American (Traditional)(415) 658-7780683 Geary StTenderloin“Came here for a quick breakfast sandwich and oooooooh weeee, baby did I enjoy my sammie!!! I ordered the \"Brekkie,\" which is a breakfast sandwich with…” read moreStart OrderOffers takeout and delivery30. El Gallo Giro Taco Truck189 reviews$Food Trucks, Tacos(415) 240-122423rd St & Treat AveMission“Best service, the folks their always have a smile on their face. Puts you in a good mood. Also, Best taco! Carnitas is the real deal... fried, crispy, yet…” read moreSponsored ResultNoodle Girl3 reviewsCaterers, Noodles, Food StandsServing San Francisco and the Surrounding AreaWomen-owned & operatedCatering service“The food is delicious, fresh, and richly seasoned. I enjoy eating the noodles with the yummy broth. I met the owner, Hang, who is a wonderful cook and one of the nicest people I have…” read more\n",
      "2 RestaurantsRestaurants to try in san fran? Any idea?RestaurantsI am going to the bay brea in a month, spending a lot of time in SF. ANy reccomendations for restaurants and things to do?restaurantswhich restaurants are opened for labor day? (that's worth going to). I tired the open table way which should have shown restaurants that are open with…\n",
      "3 About YelpCareersPressInvestor RelationsContent GuidelinesTerms of ServicePrivacy PolicyAd Choices\n",
      "4 Yelp Project Cost GuidesCollectionsTalkEventsThe Local YelpYelp BlogSupportYelp MobileDevelopersRSS\n",
      "5 Claim your Business PageAdvertise on YelpYelp ReservationsYelp WiFiYelp WaitlistBusiness Success StoriesBusiness SupportYelp Blog for Business Owners\n",
      "6 AboutBlogSupportTerms\n"
     ]
    }
   ],
   "source": [
    "for i,l in enumerate(a[:]):\n",
    "    print(i,l.text)"
   ]
  },
  {
   "cell_type": "code",
   "execution_count": null,
   "metadata": {},
   "outputs": [],
   "source": []
  },
  {
   "cell_type": "code",
   "execution_count": 56,
   "metadata": {},
   "outputs": [
    {
     "data": {
      "text/plain": [
       "39"
      ]
     },
     "execution_count": 56,
     "metadata": {},
     "output_type": "execute_result"
    }
   ],
   "source": [
    "len(a[1])"
   ]
  },
  {
   "cell_type": "code",
   "execution_count": 57,
   "metadata": {},
   "outputs": [],
   "source": [
    "cards = a[1].findChildren(\"li\")"
   ]
  },
  {
   "cell_type": "code",
   "execution_count": 71,
   "metadata": {},
   "outputs": [
    {
     "data": {
      "text/plain": [
       "39"
      ]
     },
     "execution_count": 71,
     "metadata": {},
     "output_type": "execute_result"
    }
   ],
   "source": [
    "len(cards)"
   ]
  },
  {
   "cell_type": "code",
   "execution_count": 78,
   "metadata": {},
   "outputs": [],
   "source": [
    "l = cards[13].findChildren(\"a\")"
   ]
  },
  {
   "cell_type": "code",
   "execution_count": 79,
   "metadata": {},
   "outputs": [
    {
     "data": {
      "text/plain": [
       "6"
      ]
     },
     "execution_count": 79,
     "metadata": {},
     "output_type": "execute_result"
    }
   ],
   "source": [
    "len(l)"
   ]
  },
  {
   "cell_type": "code",
   "execution_count": 80,
   "metadata": {},
   "outputs": [
    {
     "name": "stdout",
     "output_type": "stream",
     "text": [
      "/biz/miyako-old-fashioned-ice-cream-san-francisco?osq=Restaurants\n",
      "\n",
      "/biz/miyako-old-fashioned-ice-cream-san-francisco?osq=Restaurants\n",
      "\n",
      "/search?cflt=icecream&find_desc=Restaurants&find_loc=San+Francisco%2C+CA%2C+US&sortby=rating\n",
      "\n",
      "/search?cflt=delis&find_desc=Restaurants&find_loc=San+Francisco%2C+CA%2C+US&sortby=rating\n",
      "\n",
      "/search?cflt=sandwiches&find_desc=Restaurants&find_loc=San+Francisco%2C+CA%2C+US&sortby=rating\n",
      "\n",
      "/biz/miyako-old-fashioned-ice-cream-san-francisco?hrid=0yIAAV56jIDpalYF3eUNMg&osq=Restaurants\n",
      "\n"
     ]
    }
   ],
   "source": [
    "for x in l:\n",
    "    print(x['href'])\n",
    "    print()"
   ]
  },
  {
   "cell_type": "code",
   "execution_count": null,
   "metadata": {},
   "outputs": [],
   "source": []
  },
  {
   "cell_type": "code",
   "execution_count": 81,
   "metadata": {},
   "outputs": [],
   "source": [
    "links_in_page = soup.findAll(\"a\")"
   ]
  },
  {
   "cell_type": "code",
   "execution_count": 82,
   "metadata": {},
   "outputs": [
    {
     "data": {
      "text/plain": [
       "270"
      ]
     },
     "execution_count": 82,
     "metadata": {},
     "output_type": "execute_result"
    }
   ],
   "source": [
    "len(links_in_page)"
   ]
  },
  {
   "cell_type": "code",
   "execution_count": 104,
   "metadata": {},
   "outputs": [
    {
     "name": "stdout",
     "output_type": "stream",
     "text": [
      "/biz/marrakech-magic-theater-san-francisco-5?osq=Restaurants\n",
      "/biz/marrakech-magic-theater-san-francisco-5?osq=Restaurants\n",
      "/biz/marrakech-magic-theater-san-francisco-5?hrid=_eq1U4NQtx2NrMiUliip1g&osq=Restaurants\n",
      "/biz/limoncello-san-francisco?osq=Restaurants\n",
      "/biz/limoncello-san-francisco?osq=Restaurants\n",
      "/biz/limoncello-san-francisco?hrid=3LhdERnfB3_tAEwIXnyvfA&osq=Restaurants\n",
      "/biz/2hGIxgprREdBieylltWaRQ#popup:platform\n",
      "/biz/shish-ke-baba-san-francisco?osq=Restaurants\n",
      "/biz/shish-ke-baba-san-francisco?osq=Restaurants\n",
      "/biz/shish-ke-baba-san-francisco?hrid=64WItBrJ3n1un5m041j6Ew&osq=Restaurants\n",
      "/biz/gusto-pinsa-romana-san-francisco?osq=Restaurants\n",
      "/biz/gusto-pinsa-romana-san-francisco?osq=Restaurants\n",
      "/biz/gusto-pinsa-romana-san-francisco?hrid=fsVRN7qfOlndHGsCimlvxw&osq=Restaurants\n",
      "/biz/3a36_kQBI8dB32Dt2aEEHg#popup:platform\n",
      "/biz/cup-cafe-san-francisco-4?osq=Restaurants\n",
      "/biz/cup-cafe-san-francisco-4?osq=Restaurants\n",
      "/biz/cup-cafe-san-francisco-4?hrid=82reLG7TAPgJeU-m-5O0rA&osq=Restaurants\n",
      "/biz/cheese-boutique-san-francisco-2?osq=Restaurants\n",
      "/biz/cheese-boutique-san-francisco-2?osq=Restaurants\n",
      "/biz/cheese-boutique-san-francisco-2?hrid=UEFzG9EaSEMxB6Yh_aGZYg&osq=Restaurants\n",
      "/biz/cuisine-of-nepal-san-francisco?osq=Restaurants\n",
      "/biz/cuisine-of-nepal-san-francisco?osq=Restaurants\n",
      "/biz/cuisine-of-nepal-san-francisco?hrid=rv5KrMYamenlFwVGgKyICg&osq=Restaurants\n",
      "/biz/iUockw0CUssKZLyoGJYEXA#popup:platform\n",
      "/biz/miyako-old-fashioned-ice-cream-san-francisco?osq=Restaurants\n",
      "/biz/miyako-old-fashioned-ice-cream-san-francisco?osq=Restaurants\n",
      "/biz/miyako-old-fashioned-ice-cream-san-francisco?hrid=0yIAAV56jIDpalYF3eUNMg&osq=Restaurants\n",
      "/biz/fresh-brew-coffee-san-francisco?osq=Restaurants\n",
      "/biz/fresh-brew-coffee-san-francisco?osq=Restaurants\n",
      "/biz/fresh-brew-coffee-san-francisco?hrid=hikbV74F7TNFJrdXpExdAA&osq=Restaurants\n",
      "/biz/falafelland-san-francisco-2?osq=Restaurants\n",
      "/biz/falafelland-san-francisco-2?osq=Restaurants\n",
      "/biz/falafelland-san-francisco-2?hrid=A51LL-GJQJkGSKLlqEHtxA&osq=Restaurants\n",
      "/biz/7hwNwbYwU3oapw7GjaU8WQ#popup:platform\n",
      "/biz/frena-bakery-and-cafe-san-francisco-3?osq=Restaurants\n",
      "/biz/frena-bakery-and-cafe-san-francisco-3?osq=Restaurants\n",
      "/biz/frena-bakery-and-cafe-san-francisco-3?hrid=v1A-HavM5vM33MdS8yviRQ&osq=Restaurants\n",
      "/biz/N-vfl3FXnj4M7N6jW-1EGA#popup:platform\n",
      "/biz/early-to-rise-san-francisco?osq=Restaurants\n",
      "/biz/early-to-rise-san-francisco?osq=Restaurants\n",
      "/biz/early-to-rise-san-francisco?hrid=ALJuhkjOMDPUlP2dxcVlpw&osq=Restaurants\n",
      "/biz/crostini-and-java-san-francisco?osq=Restaurants\n",
      "/biz/crostini-and-java-san-francisco?osq=Restaurants\n",
      "/biz/crostini-and-java-san-francisco?hrid=LRi1fD0RgPQt6tp4M6PRxA&osq=Restaurants\n",
      "/biz/goldies-oakwood-bbq-san-francisco-3?osq=Restaurants\n",
      "/biz/goldies-oakwood-bbq-san-francisco-3?osq=Restaurants\n",
      "/biz/goldies-oakwood-bbq-san-francisco-3?hrid=S9QxE-1F1g6NEVFEJyDG_g&osq=Restaurants\n",
      "/biz/gio-gelati-san-francisco?osq=Restaurants\n",
      "/biz/gio-gelati-san-francisco?osq=Restaurants\n",
      "/biz/gio-gelati-san-francisco?hrid=T8bqEWCoIKT_WYE7R2TaNw&osq=Restaurants\n",
      "/biz/JWsP9ZkE3gNuyk2TkdjzsA#popup:platform\n",
      "/biz/lapisara-eatery-san-francisco-2?osq=Restaurants\n",
      "/biz/lapisara-eatery-san-francisco-2?osq=Restaurants\n",
      "/biz/lapisara-eatery-san-francisco-2?hrid=7INbSw1QpNU8S9rO8tQkWw&osq=Restaurants\n",
      "/biz/piccolo-forno-san-francisco?osq=Restaurants\n",
      "/biz/piccolo-forno-san-francisco?osq=Restaurants\n",
      "/biz/piccolo-forno-san-francisco?hrid=jMHxVWv1CwHMk612yVrl5w&osq=Restaurants\n",
      "/biz/tadu-ethiopian-kitchen-san-francisco-3?osq=Restaurants\n",
      "/biz/tadu-ethiopian-kitchen-san-francisco-3?osq=Restaurants\n",
      "/biz/tadu-ethiopian-kitchen-san-francisco-3?hrid=dJA8cSuF6tujXUKZRQQWGg&osq=Restaurants\n",
      "/biz/xkTx2lxZQptqxNeCBCaArA#popup:platform\n",
      "/biz/the-shota-san-francisco?osq=Restaurants\n",
      "/biz/the-shota-san-francisco?osq=Restaurants\n",
      "/biz/the-shota-san-francisco?hrid=Ad1vr9o7dW2wxpjsyeI4Gw&osq=Restaurants\n",
      "/biz/handy-deli-san-francisco?osq=Restaurants\n",
      "/biz/handy-deli-san-francisco?osq=Restaurants\n",
      "/biz/handy-deli-san-francisco?hrid=XjMVg4KE2-4pA34wcNsALw&osq=Restaurants\n",
      "/biz/HVNt7yBWN-uTPwm-G_cicA#popup:platform\n",
      "/biz/cafe-de-casa-san-francisco-3?osq=Restaurants\n",
      "/biz/cafe-de-casa-san-francisco-3?osq=Restaurants\n",
      "/biz/cafe-de-casa-san-francisco-3?hrid=hb0hL7HPcIYjdMcK5B_n-g&osq=Restaurants\n",
      "/biz/ichido-san-francisco-6?osq=Restaurants\n",
      "/biz/ichido-san-francisco-6?osq=Restaurants\n",
      "/biz/ichido-san-francisco-6?hrid=VVOw5AxYkXKnNaoXCprMew&osq=Restaurants\n",
      "/biz/san-francisco-wine-and-cheese-san-francisco-3?osq=Restaurants\n",
      "/biz/san-francisco-wine-and-cheese-san-francisco-3?osq=Restaurants\n",
      "/biz/san-francisco-wine-and-cheese-san-francisco-3?hrid=LptIdfaPYvNhey_0pqUUjw&osq=Restaurants\n",
      "/biz/old-skool-cafe-san-francisco?osq=Restaurants\n",
      "/biz/old-skool-cafe-san-francisco?osq=Restaurants\n",
      "/biz/old-skool-cafe-san-francisco?hrid=iVSVGNogN10Y0OEkJx4J5Q&osq=Restaurants\n",
      "/biz/gary-danko-san-francisco?osq=Restaurants\n",
      "/biz/gary-danko-san-francisco?osq=Restaurants\n",
      "/biz/gary-danko-san-francisco?hrid=yxJkbSho2PRkHaJCyMcTTA&osq=Restaurants\n",
      "/biz/luchos-san-francisco-2?osq=Restaurants\n",
      "/biz/luchos-san-francisco-2?osq=Restaurants\n",
      "/biz/luchos-san-francisco-2?hrid=Hh1Jm7M1pdSpr17SI-FDIA&osq=Restaurants\n",
      "/biz/Ei3hIQpYq9j-F1WhzurFLA#popup:platform\n",
      "/biz/calabria-bros-san-francisco-2?osq=Restaurants\n",
      "/biz/calabria-bros-san-francisco-2?osq=Restaurants\n",
      "/biz/calabria-bros-san-francisco-2?hrid=y32FvAwyP90rzTfwV5fh8A&osq=Restaurants\n",
      "/biz/kusakabe-san-francisco?osq=Restaurants\n",
      "/biz/kusakabe-san-francisco?osq=Restaurants\n",
      "/biz/kusakabe-san-francisco?hrid=YTo32OSh2Axyrd6QlIx4SA&osq=Restaurants\n",
      "/biz/bandit-san-francisco?osq=Restaurants\n",
      "/biz/bandit-san-francisco?osq=Restaurants\n",
      "/biz/bandit-san-francisco?hrid=JlqHYKV1HzgDloBFZx9-_g&osq=Restaurants\n",
      "/biz/cwLN5xjMi6UJ14QmEtEs4A#popup:platform\n",
      "/biz/el-gallo-giro-taco-truck-san-francisco-4?osq=Restaurants\n",
      "/biz/el-gallo-giro-taco-truck-san-francisco-4?osq=Restaurants\n",
      "/biz/el-gallo-giro-taco-truck-san-francisco-4?hrid=cFmaIxYRiSZOrfSbs2-X1Q&osq=Restaurants\n"
     ]
    }
   ],
   "source": [
    "restaurants = []\n",
    "for x in links_in_page:\n",
    "    if x.has_attr(\"href\"):\n",
    "        uri = x['href']\n",
    "        if uri.find(\"biz\")==True:\n",
    "            print(uri)\n",
    "            restaurants.append(uri.split(\"?\")[0])"
   ]
  },
  {
   "cell_type": "code",
   "execution_count": 105,
   "metadata": {},
   "outputs": [
    {
     "data": {
      "text/plain": [
       "100"
      ]
     },
     "execution_count": 105,
     "metadata": {},
     "output_type": "execute_result"
    }
   ],
   "source": [
    "len(restaurants)"
   ]
  },
  {
   "cell_type": "code",
   "execution_count": 106,
   "metadata": {},
   "outputs": [
    {
     "data": {
      "text/plain": [
       "['/biz/marrakech-magic-theater-san-francisco-5',\n",
       " '/biz/marrakech-magic-theater-san-francisco-5',\n",
       " '/biz/marrakech-magic-theater-san-francisco-5',\n",
       " '/biz/limoncello-san-francisco',\n",
       " '/biz/limoncello-san-francisco',\n",
       " '/biz/limoncello-san-francisco',\n",
       " '/biz/2hGIxgprREdBieylltWaRQ#popup:platform',\n",
       " '/biz/shish-ke-baba-san-francisco',\n",
       " '/biz/shish-ke-baba-san-francisco',\n",
       " '/biz/shish-ke-baba-san-francisco',\n",
       " '/biz/gusto-pinsa-romana-san-francisco',\n",
       " '/biz/gusto-pinsa-romana-san-francisco',\n",
       " '/biz/gusto-pinsa-romana-san-francisco',\n",
       " '/biz/3a36_kQBI8dB32Dt2aEEHg#popup:platform',\n",
       " '/biz/cup-cafe-san-francisco-4',\n",
       " '/biz/cup-cafe-san-francisco-4',\n",
       " '/biz/cup-cafe-san-francisco-4',\n",
       " '/biz/cheese-boutique-san-francisco-2',\n",
       " '/biz/cheese-boutique-san-francisco-2',\n",
       " '/biz/cheese-boutique-san-francisco-2',\n",
       " '/biz/cuisine-of-nepal-san-francisco',\n",
       " '/biz/cuisine-of-nepal-san-francisco',\n",
       " '/biz/cuisine-of-nepal-san-francisco',\n",
       " '/biz/iUockw0CUssKZLyoGJYEXA#popup:platform',\n",
       " '/biz/miyako-old-fashioned-ice-cream-san-francisco',\n",
       " '/biz/miyako-old-fashioned-ice-cream-san-francisco',\n",
       " '/biz/miyako-old-fashioned-ice-cream-san-francisco',\n",
       " '/biz/fresh-brew-coffee-san-francisco',\n",
       " '/biz/fresh-brew-coffee-san-francisco',\n",
       " '/biz/fresh-brew-coffee-san-francisco',\n",
       " '/biz/falafelland-san-francisco-2',\n",
       " '/biz/falafelland-san-francisco-2',\n",
       " '/biz/falafelland-san-francisco-2',\n",
       " '/biz/7hwNwbYwU3oapw7GjaU8WQ#popup:platform',\n",
       " '/biz/frena-bakery-and-cafe-san-francisco-3',\n",
       " '/biz/frena-bakery-and-cafe-san-francisco-3',\n",
       " '/biz/frena-bakery-and-cafe-san-francisco-3',\n",
       " '/biz/N-vfl3FXnj4M7N6jW-1EGA#popup:platform',\n",
       " '/biz/early-to-rise-san-francisco',\n",
       " '/biz/early-to-rise-san-francisco',\n",
       " '/biz/early-to-rise-san-francisco',\n",
       " '/biz/crostini-and-java-san-francisco',\n",
       " '/biz/crostini-and-java-san-francisco',\n",
       " '/biz/crostini-and-java-san-francisco',\n",
       " '/biz/goldies-oakwood-bbq-san-francisco-3',\n",
       " '/biz/goldies-oakwood-bbq-san-francisco-3',\n",
       " '/biz/goldies-oakwood-bbq-san-francisco-3',\n",
       " '/biz/gio-gelati-san-francisco',\n",
       " '/biz/gio-gelati-san-francisco',\n",
       " '/biz/gio-gelati-san-francisco',\n",
       " '/biz/JWsP9ZkE3gNuyk2TkdjzsA#popup:platform',\n",
       " '/biz/lapisara-eatery-san-francisco-2',\n",
       " '/biz/lapisara-eatery-san-francisco-2',\n",
       " '/biz/lapisara-eatery-san-francisco-2',\n",
       " '/biz/piccolo-forno-san-francisco',\n",
       " '/biz/piccolo-forno-san-francisco',\n",
       " '/biz/piccolo-forno-san-francisco',\n",
       " '/biz/tadu-ethiopian-kitchen-san-francisco-3',\n",
       " '/biz/tadu-ethiopian-kitchen-san-francisco-3',\n",
       " '/biz/tadu-ethiopian-kitchen-san-francisco-3',\n",
       " '/biz/xkTx2lxZQptqxNeCBCaArA#popup:platform',\n",
       " '/biz/the-shota-san-francisco',\n",
       " '/biz/the-shota-san-francisco',\n",
       " '/biz/the-shota-san-francisco',\n",
       " '/biz/handy-deli-san-francisco',\n",
       " '/biz/handy-deli-san-francisco',\n",
       " '/biz/handy-deli-san-francisco',\n",
       " '/biz/HVNt7yBWN-uTPwm-G_cicA#popup:platform',\n",
       " '/biz/cafe-de-casa-san-francisco-3',\n",
       " '/biz/cafe-de-casa-san-francisco-3',\n",
       " '/biz/cafe-de-casa-san-francisco-3',\n",
       " '/biz/ichido-san-francisco-6',\n",
       " '/biz/ichido-san-francisco-6',\n",
       " '/biz/ichido-san-francisco-6',\n",
       " '/biz/san-francisco-wine-and-cheese-san-francisco-3',\n",
       " '/biz/san-francisco-wine-and-cheese-san-francisco-3',\n",
       " '/biz/san-francisco-wine-and-cheese-san-francisco-3',\n",
       " '/biz/old-skool-cafe-san-francisco',\n",
       " '/biz/old-skool-cafe-san-francisco',\n",
       " '/biz/old-skool-cafe-san-francisco',\n",
       " '/biz/gary-danko-san-francisco',\n",
       " '/biz/gary-danko-san-francisco',\n",
       " '/biz/gary-danko-san-francisco',\n",
       " '/biz/luchos-san-francisco-2',\n",
       " '/biz/luchos-san-francisco-2',\n",
       " '/biz/luchos-san-francisco-2',\n",
       " '/biz/Ei3hIQpYq9j-F1WhzurFLA#popup:platform',\n",
       " '/biz/calabria-bros-san-francisco-2',\n",
       " '/biz/calabria-bros-san-francisco-2',\n",
       " '/biz/calabria-bros-san-francisco-2',\n",
       " '/biz/kusakabe-san-francisco',\n",
       " '/biz/kusakabe-san-francisco',\n",
       " '/biz/kusakabe-san-francisco',\n",
       " '/biz/bandit-san-francisco',\n",
       " '/biz/bandit-san-francisco',\n",
       " '/biz/bandit-san-francisco',\n",
       " '/biz/cwLN5xjMi6UJ14QmEtEs4A#popup:platform',\n",
       " '/biz/el-gallo-giro-taco-truck-san-francisco-4',\n",
       " '/biz/el-gallo-giro-taco-truck-san-francisco-4',\n",
       " '/biz/el-gallo-giro-taco-truck-san-francisco-4']"
      ]
     },
     "execution_count": 106,
     "metadata": {},
     "output_type": "execute_result"
    }
   ],
   "source": [
    "restaurants"
   ]
  },
  {
   "cell_type": "code",
   "execution_count": null,
   "metadata": {},
   "outputs": [],
   "source": []
  }
 ],
 "metadata": {
  "kernelspec": {
   "display_name": "Python 3",
   "language": "python",
   "name": "python3"
  },
  "language_info": {
   "codemirror_mode": {
    "name": "ipython",
    "version": 3
   },
   "file_extension": ".py",
   "mimetype": "text/x-python",
   "name": "python",
   "nbconvert_exporter": "python",
   "pygments_lexer": "ipython3",
   "version": "3.6.5"
  }
 },
 "nbformat": 4,
 "nbformat_minor": 2
}
